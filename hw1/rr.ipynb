{
 "metadata": {
  "language_info": {
   "codemirror_mode": {
    "name": "ipython",
    "version": 3
   },
   "file_extension": ".py",
   "mimetype": "text/x-python",
   "name": "python",
   "nbconvert_exporter": "python",
   "pygments_lexer": "ipython3",
   "version": "3.8.5-final"
  },
  "orig_nbformat": 2,
  "kernelspec": {
   "name": "python3",
   "display_name": "Python 3",
   "language": "python"
  }
 },
 "nbformat": 4,
 "nbformat_minor": 2,
 "cells": [
  {
   "cell_type": "code",
   "execution_count": null,
   "metadata": {},
   "outputs": [],
   "source": [
    "from ipynb.fs.defs.result import *"
   ]
  },
  {
   "cell_type": "code",
   "execution_count": null,
   "metadata": {},
   "outputs": [],
   "source": [
    "class RoundRobin:\n",
    "    def __init__(self, p_lst, q_time, cont_sw_time):\n",
    "        self.p_lst = p_lst\n",
    "        self.q_time = q_time\n",
    "        self.cont_sw_time = cont_sw_time\n",
    "    \n",
    "    def run(self):\n",
    "        sum_time = 0\n",
    "        exec_cnt = 0\n",
    "        res_time = 0\n",
    "        wait_time = 0\n",
    "        turn_around_time = 0\n",
    "        flag = True\n",
    "        while flag == True:\n",
    "            flag = False\n",
    "            for p in self.p_lst:\n",
    "                if p.run_time_left == 0:\n",
    "                    continue\n",
    "                flag = True\n",
    "                exec_cnt += 1\n",
    "                if p.run_time_left > self.q_time:\n",
    "                    p.run_time_left -= self.q_time\n",
    "                    sum_time += self.q_time\n",
    "                else:\n",
    "                    sum_time += p.run_time_left\n",
    "                    turn_around_time += sum_time\n",
    "                    p.run_time_left = 0\n",
    "                if p.exec_cnt == 0:\n",
    "                    p.res_time = sum_time\n",
    "                p.exec_cnt += 1\n",
    "                p.avg_wait_time = (sum_time - p.last_exec) / p.exec_cnt\n",
    "                p.last_exec = sum_time\n",
    "        sum_time += (exec_cnt - 1) * self.cont_sw_time\n",
    "        for p in self.p_lst:\n",
    "            wait_time += p.avg_wait_time\n",
    "            res_time += p.res_time\n",
    "        return Result(sum_time,\n",
    "                wait_time / len(self.p_lst),\n",
    "                res_time / len(self.p_lst),\n",
    "                turn_around_time / len(self.p_lst))"
   ]
  },
  {
   "cell_type": "code",
   "execution_count": null,
   "metadata": {},
   "outputs": [],
   "source": []
  }
 ]
}