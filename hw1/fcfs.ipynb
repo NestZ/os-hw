{
 "metadata": {
  "language_info": {
   "codemirror_mode": {
    "name": "ipython",
    "version": 3
   },
   "file_extension": ".py",
   "mimetype": "text/x-python",
   "name": "python",
   "nbconvert_exporter": "python",
   "pygments_lexer": "ipython3",
   "version": "3.8.5-final"
  },
  "orig_nbformat": 2,
  "kernelspec": {
   "name": "python3",
   "display_name": "Python 3",
   "language": "python"
  }
 },
 "nbformat": 4,
 "nbformat_minor": 2,
 "cells": [
  {
   "cell_type": "code",
   "execution_count": null,
   "metadata": {},
   "outputs": [],
   "source": [
    "from ipynb.fs.defs.result import *"
   ]
  },
  {
   "cell_type": "code",
   "execution_count": null,
   "metadata": {},
   "outputs": [],
   "source": [
    "class FirstComeFirstServe:\n",
    "    def __init__(self, p_lst):\n",
    "        self.p_lst = p_lst\n",
    "    \n",
    "    def run(self):\n",
    "        num_process = len(self.p_lst)\n",
    "        sum_time = 0\n",
    "        wait_time = 0\n",
    "        res_time = 0\n",
    "        turn_around_time = 0\n",
    "        for p in self.p_lst:\n",
    "            turn_around_time += sum_time + p.run_time\n",
    "            sum_time += p.run_time\n",
    "            wait_time += sum_time\n",
    "            res_time += sum_time\n",
    "        return Result(sum_time,\n",
    "                wait_time / num_process, res_time / num_process,\n",
    "                turn_around_time / num_process)"
   ]
  }
 ]
}