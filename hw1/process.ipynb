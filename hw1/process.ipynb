{
 "metadata": {
  "language_info": {
   "codemirror_mode": {
    "name": "ipython",
    "version": 3
   },
   "file_extension": ".py",
   "mimetype": "text/x-python",
   "name": "python",
   "nbconvert_exporter": "python",
   "pygments_lexer": "ipython3",
   "version": "3.8.5-final"
  },
  "orig_nbformat": 2,
  "kernelspec": {
   "name": "python3",
   "display_name": "Python 3",
   "language": "python"
  }
 },
 "nbformat": 4,
 "nbformat_minor": 2,
 "cells": [
  {
   "cell_type": "code",
   "execution_count": 4,
   "metadata": {},
   "outputs": [],
   "source": [
    "class Process:\n",
    "    def __init__(self, run_time):\n",
    "        self.run_time = run_time\n",
    "        self.run_time_left = run_time\n",
    "        self.last_exec = 0\n",
    "        self.res_time = 0\n",
    "\n",
    "    def __lt__(self, other):\n",
    "        return self.run_time < other.run_time"
   ]
  }
 ]
}