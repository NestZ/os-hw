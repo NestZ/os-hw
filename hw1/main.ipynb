{
 "metadata": {
  "language_info": {
   "codemirror_mode": {
    "name": "ipython",
    "version": 3
   },
   "file_extension": ".py",
   "mimetype": "text/x-python",
   "name": "python",
   "nbconvert_exporter": "python",
   "pygments_lexer": "ipython3",
   "version": "3.8.5-final"
  },
  "orig_nbformat": 2,
  "kernelspec": {
   "name": "python3",
   "display_name": "Python 3",
   "language": "python"
  }
 },
 "nbformat": 4,
 "nbformat_minor": 2,
 "cells": [
  {
   "cell_type": "code",
   "execution_count": null,
   "metadata": {},
   "outputs": [],
   "source": [
    "import random\n",
    "from ipynb.fs.defs.fcfs import *\n",
    "from ipynb.fs.defs.process import *"
   ]
  },
  {
   "cell_type": "code",
   "execution_count": null,
   "metadata": {},
   "outputs": [],
   "source": [
    "PROCESS_CNT = 60\n",
    "BOUND_1 = (2, 8)\n",
    "BOUND_2 = (20, 30)\n",
    "BOUND_3 = (35, 40)\n",
    "BOUND_1_PERCENT = 70\n",
    "BOUND_2_PERCENT = 20\n",
    "BOUND_3_PERCENT = 10\n",
    "\n",
    "bound_1_cnt = int(BOUND_1_PERCENT / 100 * PROCESS_CNT)\n",
    "bound_2_cnt = int(BOUND_2_PERCENT / 100 * PROCESS_CNT)\n",
    "bound_3_cnt = PROCESS_CNT - (bound_1_cnt + bound_2_cnt)\n",
    "\n",
    "print(\"{:d}\\n{:d}\\n{:d}\".format(bound_1_cnt, bound_2_cnt, bound_3_cnt))"
   ]
  },
  {
   "cell_type": "code",
   "execution_count": null,
   "metadata": {},
   "outputs": [],
   "source": [
    "p_lst = []\n",
    "for i in range (0, bound_1_cnt):\n",
    "    p_lst.append(Process(random.randint(BOUND_1[0], BOUND_1[1])))\n",
    "for i in range (0, bound_2_cnt):\n",
    "    p_lst.append(Process(random.randint(BOUND_2[0], BOUND_2[1])))\n",
    "for i in range (0, bound_3_cnt):\n",
    "    p_lst.append(Process(random.randint(BOUND_3[0], BOUND_3[1])))\n",
    "\n",
    "random.shuffle(p_lst)\n",
    "\n",
    "for i in p_lst:\n",
    "    print(str(i.runtime), end=' ')"
   ]
  },
  {
   "cell_type": "code",
   "execution_count": null,
   "metadata": {},
   "outputs": [],
   "source": [
    "fcfs = FirstComeFirstServe(p_lst)\n",
    "result = fcfs.run()\n",
    "\n",
    "print(str(result.sum_time) + ' ' + str(result.avg_wait_time))"
   ]
  }
 ]
}