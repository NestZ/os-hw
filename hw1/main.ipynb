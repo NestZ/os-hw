{
 "metadata": {
  "language_info": {
   "codemirror_mode": {
    "name": "ipython",
    "version": 3
   },
   "file_extension": ".py",
   "mimetype": "text/x-python",
   "name": "python",
   "nbconvert_exporter": "python",
   "pygments_lexer": "ipython3",
   "version": "3.8.5-final"
  },
  "orig_nbformat": 2,
  "kernelspec": {
   "name": "python3",
   "display_name": "Python 3",
   "language": "python"
  }
 },
 "nbformat": 4,
 "nbformat_minor": 2,
 "cells": [
  {
   "cell_type": "code",
   "execution_count": 1,
   "metadata": {},
   "outputs": [],
   "source": [
    "import random\n",
    "from ipynb.fs.defs.fcfs import *\n",
    "from ipynb.fs.defs.sjf import *\n",
    "from ipynb.fs.defs.rr import *\n",
    "from ipynb.fs.defs.process import *"
   ]
  },
  {
   "cell_type": "code",
   "execution_count": 2,
   "metadata": {},
   "outputs": [],
   "source": [
    "PROCESS_CNT = 60\n",
    "BOUND_1 = (2, 8)\n",
    "BOUND_2 = (20, 30)\n",
    "BOUND_3 = (35, 40)\n",
    "BOUND_1_PERCENT = 70\n",
    "BOUND_2_PERCENT = 20\n",
    "BOUND_3_PERCENT = 10\n",
    "QUANTUM_TIME = 10\n",
    "CONTEXT_SWITCH_TIME = 0.001"
   ]
  },
  {
   "cell_type": "code",
   "execution_count": 3,
   "metadata": {},
   "outputs": [
    {
     "output_type": "stream",
     "name": "stdout",
     "text": [
      "42\n12\n6\n3 29 8 27 7 35 28 7 7 8 4 6 6 4 7 23 7 37 2 21 6 4 5 8 8 2 7 6 40 4 5 28 5 4 3 27 35 2 5 6 24 4 27 7 4 2 35 40 3 8 22 30 5 5 6 27 3 4 4 7 "
     ]
    }
   ],
   "source": [
    "bound_1_cnt = int(BOUND_1_PERCENT / 100 * PROCESS_CNT)\n",
    "bound_2_cnt = int(BOUND_2_PERCENT / 100 * PROCESS_CNT)\n",
    "bound_3_cnt = PROCESS_CNT - (bound_1_cnt + bound_2_cnt)\n",
    "\n",
    "print(\"{:d}\\n{:d}\\n{:d}\".format(bound_1_cnt, bound_2_cnt, bound_3_cnt))\n",
    "\n",
    "p_lst = []\n",
    "for i in range (0, bound_1_cnt):\n",
    "    p_lst.append(Process(random.randint(BOUND_1[0], BOUND_1[1])))\n",
    "for i in range (0, bound_2_cnt):\n",
    "    p_lst.append(Process(random.randint(BOUND_2[0], BOUND_2[1])))\n",
    "for i in range (0, bound_3_cnt):\n",
    "    p_lst.append(Process(random.randint(BOUND_3[0], BOUND_3[1])))\n",
    "\n",
    "random.shuffle(p_lst)\n",
    "\n",
    "for i in p_lst:\n",
    "    print(str(i.run_time), end=' ')"
   ]
  },
  {
   "cell_type": "code",
   "execution_count": 4,
   "metadata": {},
   "outputs": [
    {
     "output_type": "stream",
     "name": "stdout",
     "text": [
      "753 389.43333333333334 389.43333333333334 12.55\n"
     ]
    }
   ],
   "source": [
    "fcfs = FirstComeFirstServe(p_lst)\n",
    "fcfs_res = fcfs.run()\n",
    "\n",
    "print(str(fcfs_res.sum_time) + ' ' + str(fcfs_res.avg_wait_time) + ' ' + str(fcfs_res.avg_res_time) + ' ' + str(fcfs_res.avg_turn_around_time))"
   ]
  },
  {
   "cell_type": "code",
   "execution_count": 5,
   "metadata": {},
   "outputs": [
    {
     "output_type": "stream",
     "name": "stdout",
     "text": [
      "753 204.11666666666667 204.11666666666667 12.55\n"
     ]
    }
   ],
   "source": [
    "sjf = ShortestJobFirst(p_lst)\n",
    "sjf_res = sjf.run()\n",
    "\n",
    "print(str(sjf_res.sum_time) + ' ' + str(sjf_res.avg_wait_time) + ' ' + str(sjf_res.avg_res_time) + ' ' + str(sjf_res.avg_turn_around_time))"
   ]
  },
  {
   "cell_type": "code",
   "execution_count": 6,
   "metadata": {},
   "outputs": [
    {
     "output_type": "stream",
     "name": "stdout",
     "text": [
      "753.101 73.56666666666666 156.61666666666667 164.41666666666666\n"
     ]
    }
   ],
   "source": [
    "rr = RoundRobin(p_lst, QUANTUM_TIME, CONTEXT_SWITCH_TIME)\n",
    "rr_res = rr.run()\n",
    "\n",
    "print(str(rr_res.sum_time) + ' ' + str(rr_res.avg_wait_time) + ' ' + str(rr_res.avg_res_time) + ' ' + str(rr_res.avg_turn_around_time))"
   ]
  }
 ]
}